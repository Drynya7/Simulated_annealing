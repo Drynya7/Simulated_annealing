{
  "nbformat": 4,
  "nbformat_minor": 0,
  "metadata": {
    "colab": {
      "provenance": [],
      "authorship_tag": "ABX9TyPCE3G7uruhASr1ku2IvUVB"
    },
    "kernelspec": {
      "name": "python3",
      "display_name": "Python 3"
    },
    "language_info": {
      "name": "python"
    }
  },
  "cells": [
    {
      "cell_type": "code",
      "execution_count": null,
      "metadata": {
        "id": "SgkrfUqX6_Ya"
      },
      "outputs": [],
      "source": [
        "import random\n",
        "import math\n",
        "import matplotlib.pyplot as plt"
      ]
    },
    {
      "cell_type": "code",
      "source": [
        "T_max = 100\n",
        "af = 0.95\n",
        "T_min = 10"
      ],
      "metadata": {
        "id": "8U9GOHtS7Hdw"
      },
      "execution_count": null,
      "outputs": []
    },
    {
      "cell_type": "code",
      "source": [
        "def InputF():\n",
        "    n = int(input(\"Степень функции: \"))\n",
        "    K = [0]*(n+1)\n",
        "    st = ''\n",
        "    for i in range(n,-1,-1):\n",
        "        if i == 0: st = st + \"K_\" + str(i)\n",
        "        elif i==n: st = st + \"K_\" + str(i) + \"*x^\" + str(i) + \"+\"\n",
        "        else: st = st + \"K_\" + str(i) + \"*x^\" + str(i) + \"+\"\n",
        "    print(st)\n",
        "    for i in range(n+1):\n",
        "        K[i] = int(input(\"Введите K_\"+str(i)+\": \"))\n",
        "    return K"
      ],
      "metadata": {
        "id": "ZgfpovZE7Jnw"
      },
      "execution_count": null,
      "outputs": []
    },
    {
      "cell_type": "code",
      "source": [
        "def Plt(K,B,E,x_m=None,y_m=None):\n",
        "    l = abs(B)+abs(E)\n",
        "    X = list(range(B,E))\n",
        "    Y = [0]*l\n",
        "    d = len(K)\n",
        "    for i in range(l):\n",
        "        Y[i]=0\n",
        "        for j in range(d):\n",
        "            Y[i] = Y[i] + K[j]*X[i]**j\n",
        "    plt.plot(X,Y,'r--')\n",
        "    plt.plot(x_m,y_m,'bs')"
      ],
      "metadata": {
        "id": "yBbEOvIh7LIe"
      },
      "execution_count": null,
      "outputs": []
    },
    {
      "cell_type": "code",
      "source": [
        "def SA(K,T_max,T_min,af=0.95):\n",
        "    B = -10\n",
        "    E = 10\n",
        "    x = random.randint(B,E)\n",
        "    T = T_max\n",
        "    dl = 0\n",
        "    d = len(K)\n",
        "    while T>T_min:\n",
        "        s = random.random()\n",
        "        x_s = x + s\n",
        "        y = y_s = 0\n",
        "        for i in range(d):\n",
        "            y = round(y + K[i]*x**i,3)\n",
        "            y_s = round(y_s + K[i]*x_s**i,3)\n",
        "        dl = y_s - y\n",
        "        if dl <= 0: x = x_s\n",
        "        else :\n",
        "            r = random.uniform(0,1)\n",
        "            P = math.exp(-dl/T)\n",
        "            if r<=P:\n",
        "                x = x_s\n",
        "        Plt(K,B,E,x,y)\n",
        "        T = T*af\n",
        "    return x"
      ],
      "metadata": {
        "id": "EurbranQ7Uva"
      },
      "execution_count": null,
      "outputs": []
    },
    {
      "cell_type": "code",
      "source": [
        "K = InputF()\n",
        "print(SA(K,T_max,T_min,af))"
      ],
      "metadata": {
        "colab": {
          "base_uri": "https://localhost:8080/",
          "height": 372
        },
        "id": "Lly5aPxK7X-X",
        "outputId": "4b81e7c6-5bf5-4f29-8943-f4dc39b79b9a"
      },
      "execution_count": null,
      "outputs": [
        {
          "output_type": "stream",
          "name": "stdout",
          "text": [
            "Степень функции: 2\n",
            "K_2*x^2+K_1*x^1+K_0\n",
            "Введите K_0: 2\n",
            "Введите K_1: 1\n",
            "Введите K_2: 2\n",
            "6.010393006260115\n"
          ]
        },
        {
          "output_type": "display_data",
          "data": {
            "text/plain": [
              "<Figure size 432x288 with 1 Axes>"
            ],
            "image/png": "[encoded data removed]"
          },
          "metadata": {
            "needs_background": "light"
          }
        }
      ]
    }
  ]
}